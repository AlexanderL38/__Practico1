{
 "cells": [
  {
   "cell_type": "code",
   "execution_count": null,
   "metadata": {},
   "outputs": [],
   "source": []
  },
  {
   "cell_type": "code",
   "execution_count": 1,
   "metadata": {},
   "outputs": [
    {
     "name": "stdout",
     "output_type": "stream",
     "text": [
      "38549\n"
     ]
    }
   ],
   "source": [
    "import re \n",
    "file = open('../data/mbox.txt')\n",
    "numero = 'New Revision: (.+)'\n",
    "data = []\n",
    "texto = file.read()\n",
    "\n",
    "\n",
    "for line in file: \n",
    "    line = line.rstrip()\n",
    "    result = re.findall(numero, line)\n",
    "    if result: \n",
    "        data.append(result)\n",
    "data, len(data)\n",
    "\n",
    "table = re.findall(numero, texto)\n",
    "total = 0\n",
    "for row in table: \n",
    "    total = total + int(row)\n",
    "    # print(type(int(row)))\n",
    "    # print(row, total)\n",
    "    \n",
    "result = total / len(table)\n",
    "\n",
    "\n",
    "print(int(result))"
   ]
  },
  {
   "cell_type": "code",
   "execution_count": 3,
   "metadata": {},
   "outputs": [
    {
     "name": "stdout",
     "output_type": "stream",
     "text": [
      "39756\n"
     ]
    }
   ],
   "source": [
    "import re \n",
    "file = open('../data/mbox-short.txt')\n",
    "numero = 'New Revision: (.+)'\n",
    "data = []\n",
    "texto = file.read()\n",
    "\n",
    "\n",
    "for line in file: \n",
    "    line = line.rstrip()\n",
    "    result = re.findall(numero, line)\n",
    "    if result: \n",
    "        data.append(result)\n",
    "data, len(data)\n",
    "\n",
    "table = re.findall(numero, texto)\n",
    "total = 0\n",
    "for row in table: \n",
    "    total = total + int(row)\n",
    "    # print(type(int(row)))\n",
    "    # print(row, total)\n",
    "    \n",
    "result = total / len(table)\n",
    "\n",
    "\n",
    "print(int(result))"
   ]
  }
 ],
 "metadata": {
  "kernelspec": {
   "display_name": "Python 3",
   "language": "python",
   "name": "python3"
  },
  "language_info": {
   "codemirror_mode": {
    "name": "ipython",
    "version": 3
   },
   "file_extension": ".py",
   "mimetype": "text/x-python",
   "name": "python",
   "nbconvert_exporter": "python",
   "pygments_lexer": "ipython3",
   "version": "3.11.5"
  },
  "orig_nbformat": 4
 },
 "nbformat": 4,
 "nbformat_minor": 2
}
